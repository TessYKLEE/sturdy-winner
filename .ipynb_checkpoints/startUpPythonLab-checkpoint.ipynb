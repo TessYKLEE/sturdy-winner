{
 "cells": [
  {
   "cell_type": "code",
   "execution_count": null,
   "metadata": {},
   "outputs": [],
   "source": [
    "#스타트업 파이썬 chapter 3"
   ]
  },
  {
   "cell_type": "code",
   "execution_count": 1,
   "metadata": {},
   "outputs": [
    {
     "name": "stdout",
     "output_type": "stream",
     "text": [
      "86400 seconds in a day\n"
     ]
    }
   ],
   "source": [
    "#예제1\n",
    "sec_in_a_min = 60\n",
    "min_in_an_hour = 60\n",
    "hours_in_a_day = 24\n",
    "sec_in_a_day = hours_in_a_day * min_in_an_hour * sec_in_a_min\n",
    "print(sec_in_a_day, 'seconds in a day')"
   ]
  },
  {
   "cell_type": "code",
   "execution_count": 2,
   "metadata": {},
   "outputs": [
    {
     "name": "stdout",
     "output_type": "stream",
     "text": [
      "형은 나보다 4 살 위입니다.\n",
      "형은 동생보다 6 살 위입니다.\n",
      "나는 동생보다 2 살 위입니다.\n"
     ]
    }
   ],
   "source": [
    "#예제2\n",
    "age_older_brother = 22\n",
    "age_me = 18\n",
    "age_younger_brother = 16\n",
    "\n",
    "diff1 = age_older_brother - age_me\n",
    "diff2 = age_older_brother - age_younger_brother\n",
    "diff3 = age_me - age_younger_brother\n",
    "print('형은 나보다', diff1,'살 위입니다.')\n",
    "print('형은 동생보다', diff2,'살 위입니다.')\n",
    "print('나는 동생보다', diff3,'살 위입니다.')"
   ]
  },
  {
   "cell_type": "code",
   "execution_count": 3,
   "metadata": {},
   "outputs": [
    {
     "name": "stdout",
     "output_type": "stream",
     "text": [
      "총점 :  264\n",
      "평균 :  88.0\n"
     ]
    }
   ],
   "source": [
    "#예제3\n",
    "score1 = 90\n",
    "score2 = 85\n",
    "score3 = 89\n",
    "total = score1 + score2\n",
    "total += score3\n",
    "average = total / 3\n",
    "\n",
    "print('총점 : ', total)\n",
    "print('평균 : ', average)"
   ]
  },
  {
   "cell_type": "code",
   "execution_count": 7,
   "metadata": {},
   "outputs": [
    {
     "name": "stdout",
     "output_type": "stream",
     "text": [
      "만의 자리수 :  3\n",
      "천의 자리수 :  8\n",
      "백의 자리수 :  7\n",
      "십의 자리수 :  2\n",
      "일의 자리수 :  4\n"
     ]
    }
   ],
   "source": [
    "#page 68 연습문제\n",
    "#01\n",
    "n = 38724\n",
    "a = n // 10000\n",
    "b = (n % 10000) // 1000\n",
    "c = (n % 1000) // 100\n",
    "d = (n % 100) // 10\n",
    "e = (n % 10)\n",
    "print('만의 자리수 : ', a)\n",
    "print('천의 자리수 : ', b)\n",
    "print('백의 자리수 : ', c)\n",
    "print('십의 자리수 : ', d)\n",
    "print('일의 자리수 : ', e)"
   ]
  },
  {
   "cell_type": "code",
   "execution_count": 8,
   "metadata": {},
   "outputs": [
    {
     "name": "stdout",
     "output_type": "stream",
     "text": [
      "원가 :  50000\n",
      "판매가 :  42500.0\n",
      "적립금 :  1275.0\n"
     ]
    }
   ],
   "source": [
    "#02\n",
    "price = 50000\n",
    "sale_price = price * 0.85\n",
    "acc_price = sale_price *0.03\n",
    "print('원가 : ', price)\n",
    "print('판매가 : ', sale_price)\n",
    "print('적립금 : ', acc_price)"
   ]
  },
  {
   "cell_type": "code",
   "execution_count": 21,
   "metadata": {},
   "outputs": [
    {
     "name": "stdout",
     "output_type": "stream",
     "text": [
      "20000 초는 5 시간 33 분 20 초입니다.\n"
     ]
    }
   ],
   "source": [
    "#03\n",
    "n = 20000\n",
    "h = (n // 60) // 60\n",
    "m = (n // 60) % 60\n",
    "s = (n % 60)\n",
    "\n",
    "print(n, '초는', h, '시간', m, '분', s, '초입니다.')"
   ]
  },
  {
   "cell_type": "code",
   "execution_count": 22,
   "metadata": {},
   "outputs": [
    {
     "name": "stdout",
     "output_type": "stream",
     "text": [
      "섭씨온도 26.5 는 화씨온도 79.7 와 같다\n"
     ]
    }
   ],
   "source": [
    "#04\n",
    "c = 26.5\n",
    "f = c *1.8 + 32\n",
    "print('섭씨온도', c, '는 화씨온도', f, '와 같다')"
   ]
  },
  {
   "cell_type": "code",
   "execution_count": 30,
   "metadata": {},
   "outputs": [
    {
     "name": "stdout",
     "output_type": "stream",
     "text": [
      "x1 =  -1.0\n",
      "x2 =  -1.5\n"
     ]
    }
   ],
   "source": [
    "#05\n",
    "#수식에서 중괄호는 쓰면 안된다\n",
    "import math\n",
    "a = 2; b = 5; c = 3\n",
    "x1 = (-b + math.sqrt((b**2)-(4*a*c))) / (2*a)\n",
    "x2 = (-b - math.sqrt((b**2)-(4*a*c))) / (2*a)\n",
    "\n",
    "print('x1 = ', x1)\n",
    "print('x2 = ', x2)\n"
   ]
  },
  {
   "cell_type": "code",
   "execution_count": null,
   "metadata": {},
   "outputs": [],
   "source": []
  }
 ],
 "metadata": {
  "kernelspec": {
   "display_name": "Python 3",
   "language": "python",
   "name": "python3"
  },
  "language_info": {
   "codemirror_mode": {
    "name": "ipython",
    "version": 3
   },
   "file_extension": ".py",
   "mimetype": "text/x-python",
   "name": "python",
   "nbconvert_exporter": "python",
   "pygments_lexer": "ipython3",
   "version": "3.8.5"
  }
 },
 "nbformat": 4,
 "nbformat_minor": 4
}
