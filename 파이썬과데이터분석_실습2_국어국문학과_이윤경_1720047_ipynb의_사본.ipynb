{
  "nbformat": 4,
  "nbformat_minor": 0,
  "metadata": {
    "colab": {
      "name": "파이썬과데이터분석_실습2_국어국문학과_이윤경_1720047.ipynb의 사본",
      "provenance": [],
      "collapsed_sections": [],
      "authorship_tag": "ABX9TyN78cQTgQyaZWMKzJEMkKv1",
      "include_colab_link": true
    },
    "kernelspec": {
      "name": "python3",
      "display_name": "Python 3"
    },
    "language_info": {
      "name": "python"
    }
  },
  "cells": [
    {
      "cell_type": "markdown",
      "metadata": {
        "id": "view-in-github",
        "colab_type": "text"
      },
      "source": [
        "<a href=\"https://colab.research.google.com/github/TessYKLEE/sturdy-winner/blob/master/%ED%8C%8C%EC%9D%B4%EC%8D%AC%EA%B3%BC%EB%8D%B0%EC%9D%B4%ED%84%B0%EB%B6%84%EC%84%9D_%EC%8B%A4%EC%8A%B52_%EA%B5%AD%EC%96%B4%EA%B5%AD%EB%AC%B8%ED%95%99%EA%B3%BC_%EC%9D%B4%EC%9C%A4%EA%B2%BD_1720047_ipynb%EC%9D%98_%EC%82%AC%EB%B3%B8.ipynb\" target=\"_parent\"><img src=\"https://colab.research.google.com/assets/colab-badge.svg\" alt=\"Open In Colab\"/></a>"
      ]
    },
    {
      "cell_type": "markdown",
      "metadata": {
        "id": "cYAMVLF4OP0x"
      },
      "source": [
        "2021년 3월 25일 실습 2\n",
        "\n",
        "국어국문학과 이윤경 (학번 : 1720047) 작성\n",
        "\n",
        "실습2, 실습6, 실습8, 실습 10 구구단 전체, 실습 11, 실습 19, Print 실습"
      ]
    },
    {
      "cell_type": "markdown",
      "metadata": {
        "id": "XW5p6E4hOdKe"
      },
      "source": [
        "실습2\n"
      ]
    },
    {
      "cell_type": "code",
      "metadata": {
        "colab": {
          "base_uri": "https://localhost:8080/"
        },
        "id": "saA3yXyrwxt2",
        "outputId": "e5fb2eed-d54d-4693-8cfc-78db7ac19613"
      },
      "source": [
        "a = 200\n",
        "\n",
        "#코드 수정하기\n",
        "if a < 100 :\n",
        "  print(\"100보다 작군요\")\n",
        "  print(\"거짓이므로 이 문장은 안보이겠죠?\")\n",
        "\n",
        "print(\"프로그램 끝\")\n",
        "\n",
        "#들여쓰기 오류 주의\n",
        "money = 1000\n",
        "water = 500\n",
        "if water < money :\n",
        "  print(\"생수를 뽑는다\")\n",
        "  print(\"물을 마신다\")\n",
        "  print(\"시원하다\")"
      ],
      "execution_count": null,
      "outputs": [
        {
          "output_type": "stream",
          "text": [
            "프로그램 끝\n",
            "생수를 뽑는다\n",
            "물을 마신다\n",
            "시원하다\n"
          ],
          "name": "stdout"
        }
      ]
    },
    {
      "cell_type": "markdown",
      "metadata": {
        "id": "RUaW_aC6Pjxg"
      },
      "source": [
        "실습6"
      ]
    },
    {
      "cell_type": "code",
      "metadata": {
        "colab": {
          "base_uri": "https://localhost:8080/"
        },
        "id": "yrpzAQJO1Hys",
        "outputId": "a2e2e074-66fe-477a-8e16-e849c35a4a15"
      },
      "source": [
        "score = int(input(\"점수를 입력하세요 : \"))\n",
        "\n",
        "if score >= 90 :\n",
        "  print(\"A\")\n",
        "elif score >= 80 :\n",
        "  print(\"B\")\n",
        "elif score >= 70 :\n",
        "  print(\"C\")\n",
        "elif score >= 60 :\n",
        "  print(\"D\")\n",
        "else :\n",
        "  print(\"F\")\n",
        "\n",
        "print(\"학점입니다. ^^\")"
      ],
      "execution_count": null,
      "outputs": [
        {
          "output_type": "stream",
          "text": [
            "점수를 입력하세요 : 92\n",
            "A\n",
            "학점입니다. ^^\n"
          ],
          "name": "stdout"
        }
      ]
    },
    {
      "cell_type": "markdown",
      "metadata": {
        "id": "1-2oGQL_QGte"
      },
      "source": [
        "실습8"
      ]
    },
    {
      "cell_type": "code",
      "metadata": {
        "id": "uOHeY-BE1hh2",
        "colab": {
          "base_uri": "https://localhost:8080/"
        },
        "outputId": "f2ee3433-cb1c-4ff6-a090-2d2d4256c73c"
      },
      "source": [
        "for n in range(10) :\n",
        "  print(n, end='')\n",
        "print()\n",
        "\n",
        "for n in range(1, 11) :\n",
        "  print(n, end='')\n",
        "print()\n",
        "\n",
        "for n in range(1, 11, 2) : #range (start, stop, step)\n",
        "  print(n, end='')\n",
        "print()\n",
        "\n",
        "for i in range(10, 0, -1) : #10부터 1까지 출력\n",
        "  print(i, end='')\n",
        "print()\n",
        "\n",
        "for i in range(10, -1, -1) : #10부터 0까지 출력\n",
        "  print(i, end='')\n",
        "print()\n",
        "\n",
        "i, hap = 0, 0.0\n",
        "\n",
        "for i in range(1, 11, 1) :\n",
        "  hap = hap + i\n",
        "\n",
        "print(\"1에서 10까지의 합계 : %d\" % hap)"
      ],
      "execution_count": null,
      "outputs": [
        {
          "output_type": "stream",
          "text": [
            "0123456789\n",
            "12345678910\n",
            "13579\n",
            "10987654321\n",
            "109876543210\n",
            "1에서 10까지의 합계 : 55\n"
          ],
          "name": "stdout"
        }
      ]
    },
    {
      "cell_type": "markdown",
      "metadata": {
        "id": "ShPCkjMCS-9Y"
      },
      "source": [
        "실습10 : 사용자가 입력한 숫자의 단에서 구구단을 출력"
      ]
    },
    {
      "cell_type": "code",
      "metadata": {
        "colab": {
          "base_uri": "https://localhost:8080/"
        },
        "id": "EUhnNjDg40BL",
        "outputId": "83c1a91b-dd7a-4542-831b-8786c6109607"
      },
      "source": [
        "i, dan = 0, 0\n",
        "\n",
        "dan = int(input(\"단을 입력하세요 : \"))\n",
        "\n",
        "for i in range(1, 10, 1) :\n",
        "  print(\"%d X %d = %2d\" %(dan, i, dan * i))\n",
        "\n",
        "print()\n",
        "\n",
        "for dan in range(2, 10, 1) :\n",
        "  for i in range(1, 10, 1) :\n",
        "    print(\"%d X %d = %2d\" %(dan, i, dan * i))"
      ],
      "execution_count": null,
      "outputs": [
        {
          "output_type": "stream",
          "text": [
            "단을 입력하세요 : 5\n",
            "5 X 1 =  5\n",
            "5 X 2 = 10\n",
            "5 X 3 = 15\n",
            "5 X 4 = 20\n",
            "5 X 5 = 25\n",
            "5 X 6 = 30\n",
            "5 X 7 = 35\n",
            "5 X 8 = 40\n",
            "5 X 9 = 45\n",
            "\n",
            "2 X 1 =  2\n",
            "2 X 2 =  4\n",
            "2 X 3 =  6\n",
            "2 X 4 =  8\n",
            "2 X 5 = 10\n",
            "2 X 6 = 12\n",
            "2 X 7 = 14\n",
            "2 X 8 = 16\n",
            "2 X 9 = 18\n",
            "3 X 1 =  3\n",
            "3 X 2 =  6\n",
            "3 X 3 =  9\n",
            "3 X 4 = 12\n",
            "3 X 5 = 15\n",
            "3 X 6 = 18\n",
            "3 X 7 = 21\n",
            "3 X 8 = 24\n",
            "3 X 9 = 27\n",
            "4 X 1 =  4\n",
            "4 X 2 =  8\n",
            "4 X 3 = 12\n",
            "4 X 4 = 16\n",
            "4 X 5 = 20\n",
            "4 X 6 = 24\n",
            "4 X 7 = 28\n",
            "4 X 8 = 32\n",
            "4 X 9 = 36\n",
            "5 X 1 =  5\n",
            "5 X 2 = 10\n",
            "5 X 3 = 15\n",
            "5 X 4 = 20\n",
            "5 X 5 = 25\n",
            "5 X 6 = 30\n",
            "5 X 7 = 35\n",
            "5 X 8 = 40\n",
            "5 X 9 = 45\n",
            "6 X 1 =  6\n",
            "6 X 2 = 12\n",
            "6 X 3 = 18\n",
            "6 X 4 = 24\n",
            "6 X 5 = 30\n",
            "6 X 6 = 36\n",
            "6 X 7 = 42\n",
            "6 X 8 = 48\n",
            "6 X 9 = 54\n",
            "7 X 1 =  7\n",
            "7 X 2 = 14\n",
            "7 X 3 = 21\n",
            "7 X 4 = 28\n",
            "7 X 5 = 35\n",
            "7 X 6 = 42\n",
            "7 X 7 = 49\n",
            "7 X 8 = 56\n",
            "7 X 9 = 63\n",
            "8 X 1 =  8\n",
            "8 X 2 = 16\n",
            "8 X 3 = 24\n",
            "8 X 4 = 32\n",
            "8 X 5 = 40\n",
            "8 X 6 = 48\n",
            "8 X 7 = 56\n",
            "8 X 8 = 64\n",
            "8 X 9 = 72\n",
            "9 X 1 =  9\n",
            "9 X 2 = 18\n",
            "9 X 3 = 27\n",
            "9 X 4 = 36\n",
            "9 X 5 = 45\n",
            "9 X 6 = 54\n",
            "9 X 7 = 63\n",
            "9 X 8 = 72\n",
            "9 X 9 = 81\n"
          ],
          "name": "stdout"
        }
      ]
    },
    {
      "cell_type": "markdown",
      "metadata": {
        "id": "I1C5EZQkTpUd"
      },
      "source": [
        "실습11 : 구구단 가로 출력"
      ]
    },
    {
      "cell_type": "code",
      "metadata": {
        "colab": {
          "base_uri": "https://localhost:8080/"
        },
        "id": "pF9otzkS5wsM",
        "outputId": "19ee9692-d7ce-462f-ea12-4477210ce02f"
      },
      "source": [
        "#단 수가 바뀌고 뒤에 곱해지는 숫자는 일정한 알고리즘\n",
        "#뒤의 곱해지는 숫자는 바깥 for문에 위치\n",
        "#단 수는 안의 for문에 위치시킨다.\n",
        "\n",
        "i, k, guguLine = 0, 0, \"\"\n",
        "\n",
        "for i in range(2, 10) :\n",
        "  guguLine = guguLine + (\" #  %d단  #\" % i)\n",
        "\n",
        "print(guguLine)\n",
        "\n",
        "for i in range(1, 10) :\n",
        "  guguLine = \"\"               #guguLine을 문자열로 초기화\n",
        "  for k in range(2, 10) :\n",
        "    guguLine = guguLine + str(\"%2dX %d= %2d\" %(k, i, k*i)) #guguLine이 문자열이기 때문에 구구단 곱셈 수식을 str로 형변환해준다.\n",
        "  print(guguLine)"
      ],
      "execution_count": null,
      "outputs": [
        {
          "output_type": "stream",
          "text": [
            " #  2단  # #  3단  # #  4단  # #  5단  # #  6단  # #  7단  # #  8단  # #  9단  #\n",
            " 2X 1=  2 3X 1=  3 4X 1=  4 5X 1=  5 6X 1=  6 7X 1=  7 8X 1=  8 9X 1=  9\n",
            " 2X 2=  4 3X 2=  6 4X 2=  8 5X 2= 10 6X 2= 12 7X 2= 14 8X 2= 16 9X 2= 18\n",
            " 2X 3=  6 3X 3=  9 4X 3= 12 5X 3= 15 6X 3= 18 7X 3= 21 8X 3= 24 9X 3= 27\n",
            " 2X 4=  8 3X 4= 12 4X 4= 16 5X 4= 20 6X 4= 24 7X 4= 28 8X 4= 32 9X 4= 36\n",
            " 2X 5= 10 3X 5= 15 4X 5= 20 5X 5= 25 6X 5= 30 7X 5= 35 8X 5= 40 9X 5= 45\n",
            " 2X 6= 12 3X 6= 18 4X 6= 24 5X 6= 30 6X 6= 36 7X 6= 42 8X 6= 48 9X 6= 54\n",
            " 2X 7= 14 3X 7= 21 4X 7= 28 5X 7= 35 6X 7= 42 7X 7= 49 8X 7= 56 9X 7= 63\n",
            " 2X 8= 16 3X 8= 24 4X 8= 32 5X 8= 40 6X 8= 48 7X 8= 56 8X 8= 64 9X 8= 72\n",
            " 2X 9= 18 3X 9= 27 4X 9= 36 5X 9= 45 6X 9= 54 7X 9= 63 8X 9= 72 9X 9= 81\n"
          ],
          "name": "stdout"
        }
      ]
    },
    {
      "cell_type": "markdown",
      "metadata": {
        "id": "8oaJJx5HWuXt"
      },
      "source": [
        "실습12"
      ]
    },
    {
      "cell_type": "code",
      "metadata": {
        "colab": {
          "base_uri": "https://localhost:8080/"
        },
        "id": "LTC_PGHYWxEB",
        "outputId": "54199561-50cf-4844-937c-4684edc883fc"
      },
      "source": [
        "i, hap = 0, 0\n",
        "\n",
        "i = 1\n",
        "while i < 11:\n",
        "  hap = hap + i\n",
        "  i = i + 1\n",
        "\n",
        "print(\"1에서 10까지의 합계 : %d\" %hap)"
      ],
      "execution_count": null,
      "outputs": [
        {
          "output_type": "stream",
          "text": [
            "1에서 10까지의 합계 : 55\n"
          ],
          "name": "stdout"
        }
      ]
    },
    {
      "cell_type": "markdown",
      "metadata": {
        "id": "WkRmPZDjXZYt"
      },
      "source": [
        "실습13"
      ]
    },
    {
      "cell_type": "code",
      "metadata": {
        "colab": {
          "base_uri": "https://localhost:8080/",
          "height": 664
        },
        "id": "kjOSbwuAXbuA",
        "outputId": "a0f45426-20db-4055-f0f9-032852991c23"
      },
      "source": [
        "hap = 0\n",
        "a, b = 0, 0\n",
        "\n",
        "while True :\n",
        "  a = int(input(\"더할 첫 번째 수를 입력하세요 : \"))\n",
        "  b = int(input(\"더할 두 번째 수를 입력하세요 : \"))\n",
        "  hap = a + b\n",
        "  print(\"%d + %d = %d\" %(a, b, hap))"
      ],
      "execution_count": null,
      "outputs": [
        {
          "output_type": "stream",
          "text": [
            "더할 첫 번째 수를 입력하세요 : 5\n",
            "더할 두 번째 수를 입력하세요 : 7\n",
            "5 + 7 = 12\n",
            "더할 첫 번째 수를 입력하세요 : 4\n",
            "더할 두 번째 수를 입력하세요 : 6\n",
            "4 + 6 = 10\n"
          ],
          "name": "stdout"
        },
        {
          "output_type": "error",
          "ename": "KeyboardInterrupt",
          "evalue": "ignored",
          "traceback": [
            "\u001b[0;31m---------------------------------------------------------------------------\u001b[0m",
            "\u001b[0;31mKeyboardInterrupt\u001b[0m                         Traceback (most recent call last)",
            "\u001b[0;32m/usr/local/lib/python3.7/dist-packages/ipykernel/kernelbase.py\u001b[0m in \u001b[0;36m_input_request\u001b[0;34m(self, prompt, ident, parent, password)\u001b[0m\n\u001b[1;32m    728\u001b[0m             \u001b[0;32mtry\u001b[0m\u001b[0;34m:\u001b[0m\u001b[0;34m\u001b[0m\u001b[0;34m\u001b[0m\u001b[0m\n\u001b[0;32m--> 729\u001b[0;31m                 \u001b[0mident\u001b[0m\u001b[0;34m,\u001b[0m \u001b[0mreply\u001b[0m \u001b[0;34m=\u001b[0m \u001b[0mself\u001b[0m\u001b[0;34m.\u001b[0m\u001b[0msession\u001b[0m\u001b[0;34m.\u001b[0m\u001b[0mrecv\u001b[0m\u001b[0;34m(\u001b[0m\u001b[0mself\u001b[0m\u001b[0;34m.\u001b[0m\u001b[0mstdin_socket\u001b[0m\u001b[0;34m,\u001b[0m \u001b[0;36m0\u001b[0m\u001b[0;34m)\u001b[0m\u001b[0;34m\u001b[0m\u001b[0;34m\u001b[0m\u001b[0m\n\u001b[0m\u001b[1;32m    730\u001b[0m             \u001b[0;32mexcept\u001b[0m \u001b[0mException\u001b[0m\u001b[0;34m:\u001b[0m\u001b[0;34m\u001b[0m\u001b[0;34m\u001b[0m\u001b[0m\n",
            "\u001b[0;32m/usr/local/lib/python3.7/dist-packages/jupyter_client/session.py\u001b[0m in \u001b[0;36mrecv\u001b[0;34m(self, socket, mode, content, copy)\u001b[0m\n\u001b[1;32m    802\u001b[0m         \u001b[0;32mtry\u001b[0m\u001b[0;34m:\u001b[0m\u001b[0;34m\u001b[0m\u001b[0;34m\u001b[0m\u001b[0m\n\u001b[0;32m--> 803\u001b[0;31m             \u001b[0mmsg_list\u001b[0m \u001b[0;34m=\u001b[0m \u001b[0msocket\u001b[0m\u001b[0;34m.\u001b[0m\u001b[0mrecv_multipart\u001b[0m\u001b[0;34m(\u001b[0m\u001b[0mmode\u001b[0m\u001b[0;34m,\u001b[0m \u001b[0mcopy\u001b[0m\u001b[0;34m=\u001b[0m\u001b[0mcopy\u001b[0m\u001b[0;34m)\u001b[0m\u001b[0;34m\u001b[0m\u001b[0;34m\u001b[0m\u001b[0m\n\u001b[0m\u001b[1;32m    804\u001b[0m         \u001b[0;32mexcept\u001b[0m \u001b[0mzmq\u001b[0m\u001b[0;34m.\u001b[0m\u001b[0mZMQError\u001b[0m \u001b[0;32mas\u001b[0m \u001b[0me\u001b[0m\u001b[0;34m:\u001b[0m\u001b[0;34m\u001b[0m\u001b[0;34m\u001b[0m\u001b[0m\n",
            "\u001b[0;32m/usr/local/lib/python3.7/dist-packages/zmq/sugar/socket.py\u001b[0m in \u001b[0;36mrecv_multipart\u001b[0;34m(self, flags, copy, track)\u001b[0m\n\u001b[1;32m    582\u001b[0m         \"\"\"\n\u001b[0;32m--> 583\u001b[0;31m         \u001b[0mparts\u001b[0m \u001b[0;34m=\u001b[0m \u001b[0;34m[\u001b[0m\u001b[0mself\u001b[0m\u001b[0;34m.\u001b[0m\u001b[0mrecv\u001b[0m\u001b[0;34m(\u001b[0m\u001b[0mflags\u001b[0m\u001b[0;34m,\u001b[0m \u001b[0mcopy\u001b[0m\u001b[0;34m=\u001b[0m\u001b[0mcopy\u001b[0m\u001b[0;34m,\u001b[0m \u001b[0mtrack\u001b[0m\u001b[0;34m=\u001b[0m\u001b[0mtrack\u001b[0m\u001b[0;34m)\u001b[0m\u001b[0;34m]\u001b[0m\u001b[0;34m\u001b[0m\u001b[0;34m\u001b[0m\u001b[0m\n\u001b[0m\u001b[1;32m    584\u001b[0m         \u001b[0;31m# have first part already, only loop while more to receive\u001b[0m\u001b[0;34m\u001b[0m\u001b[0;34m\u001b[0m\u001b[0;34m\u001b[0m\u001b[0m\n",
            "\u001b[0;32mzmq/backend/cython/socket.pyx\u001b[0m in \u001b[0;36mzmq.backend.cython.socket.Socket.recv\u001b[0;34m()\u001b[0m\n",
            "\u001b[0;32mzmq/backend/cython/socket.pyx\u001b[0m in \u001b[0;36mzmq.backend.cython.socket.Socket.recv\u001b[0;34m()\u001b[0m\n",
            "\u001b[0;32mzmq/backend/cython/socket.pyx\u001b[0m in \u001b[0;36mzmq.backend.cython.socket._recv_copy\u001b[0;34m()\u001b[0m\n",
            "\u001b[0;32m/usr/local/lib/python3.7/dist-packages/zmq/backend/cython/checkrc.pxd\u001b[0m in \u001b[0;36mzmq.backend.cython.checkrc._check_rc\u001b[0;34m()\u001b[0m\n",
            "\u001b[0;31mKeyboardInterrupt\u001b[0m: ",
            "\nDuring handling of the above exception, another exception occurred:\n",
            "\u001b[0;31mKeyboardInterrupt\u001b[0m                         Traceback (most recent call last)",
            "\u001b[0;32m<ipython-input-9-d935f01ae6d1>\u001b[0m in \u001b[0;36m<module>\u001b[0;34m()\u001b[0m\n\u001b[1;32m      3\u001b[0m \u001b[0;34m\u001b[0m\u001b[0m\n\u001b[1;32m      4\u001b[0m \u001b[0;32mwhile\u001b[0m \u001b[0;32mTrue\u001b[0m \u001b[0;34m:\u001b[0m\u001b[0;34m\u001b[0m\u001b[0;34m\u001b[0m\u001b[0m\n\u001b[0;32m----> 5\u001b[0;31m   \u001b[0ma\u001b[0m \u001b[0;34m=\u001b[0m \u001b[0mint\u001b[0m\u001b[0;34m(\u001b[0m\u001b[0minput\u001b[0m\u001b[0;34m(\u001b[0m\u001b[0;34m\"더할 첫 번째 수를 입력하세요 : \"\u001b[0m\u001b[0;34m)\u001b[0m\u001b[0;34m)\u001b[0m\u001b[0;34m\u001b[0m\u001b[0;34m\u001b[0m\u001b[0m\n\u001b[0m\u001b[1;32m      6\u001b[0m   \u001b[0mb\u001b[0m \u001b[0;34m=\u001b[0m \u001b[0mint\u001b[0m\u001b[0;34m(\u001b[0m\u001b[0minput\u001b[0m\u001b[0;34m(\u001b[0m\u001b[0;34m\"더할 두 번째 수를 입력하세요 : \"\u001b[0m\u001b[0;34m)\u001b[0m\u001b[0;34m)\u001b[0m\u001b[0;34m\u001b[0m\u001b[0;34m\u001b[0m\u001b[0m\n\u001b[1;32m      7\u001b[0m   \u001b[0mhap\u001b[0m \u001b[0;34m=\u001b[0m \u001b[0ma\u001b[0m \u001b[0;34m+\u001b[0m \u001b[0mb\u001b[0m\u001b[0;34m\u001b[0m\u001b[0;34m\u001b[0m\u001b[0m\n",
            "\u001b[0;32m/usr/local/lib/python3.7/dist-packages/ipykernel/kernelbase.py\u001b[0m in \u001b[0;36mraw_input\u001b[0;34m(self, prompt)\u001b[0m\n\u001b[1;32m    702\u001b[0m             \u001b[0mself\u001b[0m\u001b[0;34m.\u001b[0m\u001b[0m_parent_ident\u001b[0m\u001b[0;34m,\u001b[0m\u001b[0;34m\u001b[0m\u001b[0;34m\u001b[0m\u001b[0m\n\u001b[1;32m    703\u001b[0m             \u001b[0mself\u001b[0m\u001b[0;34m.\u001b[0m\u001b[0m_parent_header\u001b[0m\u001b[0;34m,\u001b[0m\u001b[0;34m\u001b[0m\u001b[0;34m\u001b[0m\u001b[0m\n\u001b[0;32m--> 704\u001b[0;31m             \u001b[0mpassword\u001b[0m\u001b[0;34m=\u001b[0m\u001b[0;32mFalse\u001b[0m\u001b[0;34m,\u001b[0m\u001b[0;34m\u001b[0m\u001b[0;34m\u001b[0m\u001b[0m\n\u001b[0m\u001b[1;32m    705\u001b[0m         )\n\u001b[1;32m    706\u001b[0m \u001b[0;34m\u001b[0m\u001b[0m\n",
            "\u001b[0;32m/usr/local/lib/python3.7/dist-packages/ipykernel/kernelbase.py\u001b[0m in \u001b[0;36m_input_request\u001b[0;34m(self, prompt, ident, parent, password)\u001b[0m\n\u001b[1;32m    732\u001b[0m             \u001b[0;32mexcept\u001b[0m \u001b[0mKeyboardInterrupt\u001b[0m\u001b[0;34m:\u001b[0m\u001b[0;34m\u001b[0m\u001b[0;34m\u001b[0m\u001b[0m\n\u001b[1;32m    733\u001b[0m                 \u001b[0;31m# re-raise KeyboardInterrupt, to truncate traceback\u001b[0m\u001b[0;34m\u001b[0m\u001b[0;34m\u001b[0m\u001b[0;34m\u001b[0m\u001b[0m\n\u001b[0;32m--> 734\u001b[0;31m                 \u001b[0;32mraise\u001b[0m \u001b[0mKeyboardInterrupt\u001b[0m\u001b[0;34m\u001b[0m\u001b[0;34m\u001b[0m\u001b[0m\n\u001b[0m\u001b[1;32m    735\u001b[0m             \u001b[0;32melse\u001b[0m\u001b[0;34m:\u001b[0m\u001b[0;34m\u001b[0m\u001b[0;34m\u001b[0m\u001b[0m\n\u001b[1;32m    736\u001b[0m                 \u001b[0;32mbreak\u001b[0m\u001b[0;34m\u001b[0m\u001b[0;34m\u001b[0m\u001b[0m\n",
            "\u001b[0;31mKeyboardInterrupt\u001b[0m: "
          ]
        }
      ]
    },
    {
      "cell_type": "markdown",
      "metadata": {
        "id": "XJM3ruMAX-4-"
      },
      "source": [
        "실습14"
      ]
    },
    {
      "cell_type": "code",
      "metadata": {
        "colab": {
          "base_uri": "https://localhost:8080/",
          "height": 630
        },
        "id": "i9EtYvDVYBuM",
        "outputId": "0539a205-a2e5-4e0d-c95e-e95b0bb8c2df"
      },
      "source": [
        "ch = \"\"\n",
        "a, b = 0, 0\n",
        "\n",
        "while True :\n",
        "  a = int(input(\"계산할 첫 번째 수를 입력하세요 : \"))\n",
        "  b = int(input(\"계산할 두 번째 수를 입력하세요 : \"))\n",
        "  ch = input(\"계산할 연산자를 입력하세요 : \")\n",
        "\n",
        "  if ch == '+' :\n",
        "    print(\"%d + %d = %d\" %(a, b, a+b))\n",
        "  elif ch == '-' :\n",
        "    print(\"%d - %d = %d\" %(a, b, a-b))  \n",
        "  elif ch == '*' :\n",
        "    print(\"%d * %d = %d\" %(a, b, a*b))\n",
        "  elif ch == '/' :\n",
        "    print(\"%d / %d = %d\" %(a, b, a/b))\n",
        "  elif ch == '%' :\n",
        "    print(\"%d %% %d = %d\" %(a, b, a%b))\n",
        "  elif ch == '//' :\n",
        "    print(\"%d // %d = %d\" %(a, b, a//b))\n",
        "  elif ch == '**' :\n",
        "    print(\"%d ** %d = %d\" %(a, b, a**b))\n",
        "  else :\n",
        "    print(\"연산자를 잘못 입력했습니다.\")"
      ],
      "execution_count": null,
      "outputs": [
        {
          "output_type": "stream",
          "text": [
            "계산할 첫 번째 수를 입력하세요 : 15\n",
            "계산할 두 번째 수를 입력하세요 : 5\n",
            "계산할 연산자를 입력하세요 : -\n",
            "15 - 5 = 10\n"
          ],
          "name": "stdout"
        },
        {
          "output_type": "error",
          "ename": "KeyboardInterrupt",
          "evalue": "ignored",
          "traceback": [
            "\u001b[0;31m---------------------------------------------------------------------------\u001b[0m",
            "\u001b[0;31mKeyboardInterrupt\u001b[0m                         Traceback (most recent call last)",
            "\u001b[0;32m/usr/local/lib/python3.7/dist-packages/ipykernel/kernelbase.py\u001b[0m in \u001b[0;36m_input_request\u001b[0;34m(self, prompt, ident, parent, password)\u001b[0m\n\u001b[1;32m    728\u001b[0m             \u001b[0;32mtry\u001b[0m\u001b[0;34m:\u001b[0m\u001b[0;34m\u001b[0m\u001b[0;34m\u001b[0m\u001b[0m\n\u001b[0;32m--> 729\u001b[0;31m                 \u001b[0mident\u001b[0m\u001b[0;34m,\u001b[0m \u001b[0mreply\u001b[0m \u001b[0;34m=\u001b[0m \u001b[0mself\u001b[0m\u001b[0;34m.\u001b[0m\u001b[0msession\u001b[0m\u001b[0;34m.\u001b[0m\u001b[0mrecv\u001b[0m\u001b[0;34m(\u001b[0m\u001b[0mself\u001b[0m\u001b[0;34m.\u001b[0m\u001b[0mstdin_socket\u001b[0m\u001b[0;34m,\u001b[0m \u001b[0;36m0\u001b[0m\u001b[0;34m)\u001b[0m\u001b[0;34m\u001b[0m\u001b[0;34m\u001b[0m\u001b[0m\n\u001b[0m\u001b[1;32m    730\u001b[0m             \u001b[0;32mexcept\u001b[0m \u001b[0mException\u001b[0m\u001b[0;34m:\u001b[0m\u001b[0;34m\u001b[0m\u001b[0;34m\u001b[0m\u001b[0m\n",
            "\u001b[0;32m/usr/local/lib/python3.7/dist-packages/jupyter_client/session.py\u001b[0m in \u001b[0;36mrecv\u001b[0;34m(self, socket, mode, content, copy)\u001b[0m\n\u001b[1;32m    802\u001b[0m         \u001b[0;32mtry\u001b[0m\u001b[0;34m:\u001b[0m\u001b[0;34m\u001b[0m\u001b[0;34m\u001b[0m\u001b[0m\n\u001b[0;32m--> 803\u001b[0;31m             \u001b[0mmsg_list\u001b[0m \u001b[0;34m=\u001b[0m \u001b[0msocket\u001b[0m\u001b[0;34m.\u001b[0m\u001b[0mrecv_multipart\u001b[0m\u001b[0;34m(\u001b[0m\u001b[0mmode\u001b[0m\u001b[0;34m,\u001b[0m \u001b[0mcopy\u001b[0m\u001b[0;34m=\u001b[0m\u001b[0mcopy\u001b[0m\u001b[0;34m)\u001b[0m\u001b[0;34m\u001b[0m\u001b[0;34m\u001b[0m\u001b[0m\n\u001b[0m\u001b[1;32m    804\u001b[0m         \u001b[0;32mexcept\u001b[0m \u001b[0mzmq\u001b[0m\u001b[0;34m.\u001b[0m\u001b[0mZMQError\u001b[0m \u001b[0;32mas\u001b[0m \u001b[0me\u001b[0m\u001b[0;34m:\u001b[0m\u001b[0;34m\u001b[0m\u001b[0;34m\u001b[0m\u001b[0m\n",
            "\u001b[0;32m/usr/local/lib/python3.7/dist-packages/zmq/sugar/socket.py\u001b[0m in \u001b[0;36mrecv_multipart\u001b[0;34m(self, flags, copy, track)\u001b[0m\n\u001b[1;32m    582\u001b[0m         \"\"\"\n\u001b[0;32m--> 583\u001b[0;31m         \u001b[0mparts\u001b[0m \u001b[0;34m=\u001b[0m \u001b[0;34m[\u001b[0m\u001b[0mself\u001b[0m\u001b[0;34m.\u001b[0m\u001b[0mrecv\u001b[0m\u001b[0;34m(\u001b[0m\u001b[0mflags\u001b[0m\u001b[0;34m,\u001b[0m \u001b[0mcopy\u001b[0m\u001b[0;34m=\u001b[0m\u001b[0mcopy\u001b[0m\u001b[0;34m,\u001b[0m \u001b[0mtrack\u001b[0m\u001b[0;34m=\u001b[0m\u001b[0mtrack\u001b[0m\u001b[0;34m)\u001b[0m\u001b[0;34m]\u001b[0m\u001b[0;34m\u001b[0m\u001b[0;34m\u001b[0m\u001b[0m\n\u001b[0m\u001b[1;32m    584\u001b[0m         \u001b[0;31m# have first part already, only loop while more to receive\u001b[0m\u001b[0;34m\u001b[0m\u001b[0;34m\u001b[0m\u001b[0;34m\u001b[0m\u001b[0m\n",
            "\u001b[0;32mzmq/backend/cython/socket.pyx\u001b[0m in \u001b[0;36mzmq.backend.cython.socket.Socket.recv\u001b[0;34m()\u001b[0m\n",
            "\u001b[0;32mzmq/backend/cython/socket.pyx\u001b[0m in \u001b[0;36mzmq.backend.cython.socket.Socket.recv\u001b[0;34m()\u001b[0m\n",
            "\u001b[0;32mzmq/backend/cython/socket.pyx\u001b[0m in \u001b[0;36mzmq.backend.cython.socket._recv_copy\u001b[0;34m()\u001b[0m\n",
            "\u001b[0;32m/usr/local/lib/python3.7/dist-packages/zmq/backend/cython/checkrc.pxd\u001b[0m in \u001b[0;36mzmq.backend.cython.checkrc._check_rc\u001b[0;34m()\u001b[0m\n",
            "\u001b[0;31mKeyboardInterrupt\u001b[0m: ",
            "\nDuring handling of the above exception, another exception occurred:\n",
            "\u001b[0;31mKeyboardInterrupt\u001b[0m                         Traceback (most recent call last)",
            "\u001b[0;32m<ipython-input-12-fbcdab397abe>\u001b[0m in \u001b[0;36m<module>\u001b[0;34m()\u001b[0m\n\u001b[1;32m      3\u001b[0m \u001b[0;34m\u001b[0m\u001b[0m\n\u001b[1;32m      4\u001b[0m \u001b[0;32mwhile\u001b[0m \u001b[0;32mTrue\u001b[0m \u001b[0;34m:\u001b[0m\u001b[0;34m\u001b[0m\u001b[0;34m\u001b[0m\u001b[0m\n\u001b[0;32m----> 5\u001b[0;31m   \u001b[0ma\u001b[0m \u001b[0;34m=\u001b[0m \u001b[0mint\u001b[0m\u001b[0;34m(\u001b[0m\u001b[0minput\u001b[0m\u001b[0;34m(\u001b[0m\u001b[0;34m\"계산할 첫 번째 수를 입력하세요 : \"\u001b[0m\u001b[0;34m)\u001b[0m\u001b[0;34m)\u001b[0m\u001b[0;34m\u001b[0m\u001b[0;34m\u001b[0m\u001b[0m\n\u001b[0m\u001b[1;32m      6\u001b[0m   \u001b[0mb\u001b[0m \u001b[0;34m=\u001b[0m \u001b[0mint\u001b[0m\u001b[0;34m(\u001b[0m\u001b[0minput\u001b[0m\u001b[0;34m(\u001b[0m\u001b[0;34m\"계산할 두 번째 수를 입력하세요 : \"\u001b[0m\u001b[0;34m)\u001b[0m\u001b[0;34m)\u001b[0m\u001b[0;34m\u001b[0m\u001b[0;34m\u001b[0m\u001b[0m\n\u001b[1;32m      7\u001b[0m   \u001b[0mch\u001b[0m \u001b[0;34m=\u001b[0m \u001b[0minput\u001b[0m\u001b[0;34m(\u001b[0m\u001b[0;34m\"계산할 연산자를 입력하세요 : \"\u001b[0m\u001b[0;34m)\u001b[0m\u001b[0;34m\u001b[0m\u001b[0;34m\u001b[0m\u001b[0m\n",
            "\u001b[0;32m/usr/local/lib/python3.7/dist-packages/ipykernel/kernelbase.py\u001b[0m in \u001b[0;36mraw_input\u001b[0;34m(self, prompt)\u001b[0m\n\u001b[1;32m    702\u001b[0m             \u001b[0mself\u001b[0m\u001b[0;34m.\u001b[0m\u001b[0m_parent_ident\u001b[0m\u001b[0;34m,\u001b[0m\u001b[0;34m\u001b[0m\u001b[0;34m\u001b[0m\u001b[0m\n\u001b[1;32m    703\u001b[0m             \u001b[0mself\u001b[0m\u001b[0;34m.\u001b[0m\u001b[0m_parent_header\u001b[0m\u001b[0;34m,\u001b[0m\u001b[0;34m\u001b[0m\u001b[0;34m\u001b[0m\u001b[0m\n\u001b[0;32m--> 704\u001b[0;31m             \u001b[0mpassword\u001b[0m\u001b[0;34m=\u001b[0m\u001b[0;32mFalse\u001b[0m\u001b[0;34m,\u001b[0m\u001b[0;34m\u001b[0m\u001b[0;34m\u001b[0m\u001b[0m\n\u001b[0m\u001b[1;32m    705\u001b[0m         )\n\u001b[1;32m    706\u001b[0m \u001b[0;34m\u001b[0m\u001b[0m\n",
            "\u001b[0;32m/usr/local/lib/python3.7/dist-packages/ipykernel/kernelbase.py\u001b[0m in \u001b[0;36m_input_request\u001b[0;34m(self, prompt, ident, parent, password)\u001b[0m\n\u001b[1;32m    732\u001b[0m             \u001b[0;32mexcept\u001b[0m \u001b[0mKeyboardInterrupt\u001b[0m\u001b[0;34m:\u001b[0m\u001b[0;34m\u001b[0m\u001b[0;34m\u001b[0m\u001b[0m\n\u001b[1;32m    733\u001b[0m                 \u001b[0;31m# re-raise KeyboardInterrupt, to truncate traceback\u001b[0m\u001b[0;34m\u001b[0m\u001b[0;34m\u001b[0m\u001b[0;34m\u001b[0m\u001b[0m\n\u001b[0;32m--> 734\u001b[0;31m                 \u001b[0;32mraise\u001b[0m \u001b[0mKeyboardInterrupt\u001b[0m\u001b[0;34m\u001b[0m\u001b[0;34m\u001b[0m\u001b[0m\n\u001b[0m\u001b[1;32m    735\u001b[0m             \u001b[0;32melse\u001b[0m\u001b[0;34m:\u001b[0m\u001b[0;34m\u001b[0m\u001b[0;34m\u001b[0m\u001b[0m\n\u001b[1;32m    736\u001b[0m                 \u001b[0;32mbreak\u001b[0m\u001b[0;34m\u001b[0m\u001b[0;34m\u001b[0m\u001b[0m\n",
            "\u001b[0;31mKeyboardInterrupt\u001b[0m: "
          ]
        }
      ]
    },
    {
      "cell_type": "markdown",
      "metadata": {
        "id": "6zSJE5ycZgFv"
      },
      "source": [
        "실습15"
      ]
    },
    {
      "cell_type": "code",
      "metadata": {
        "colab": {
          "base_uri": "https://localhost:8080/"
        },
        "id": "-f65_CClZfyO",
        "outputId": "a7b52b36-6846-4613-ddd0-90b699343435"
      },
      "source": [
        "hap = 0\n",
        "a, b = 0, 0\n",
        "\n",
        "while True :\n",
        "  a = int(input(\"더할 첫 번째 수를 입력하세요 : \"))\n",
        "  if a == 0:\n",
        "    break\n",
        "  b = int(input(\"더할 두 번째 수를 입력하세요 : \"))\n",
        "  hap = a + b\n",
        "  print(\"%d + %d = %d\" %(a, b, hap))\n",
        "\n",
        "print(\"0을 입력해 반복문을 탈출했습니다.\")"
      ],
      "execution_count": null,
      "outputs": [
        {
          "output_type": "stream",
          "text": [
            "더할 첫 번째 수를 입력하세요 : 7\n",
            "더할 첫 번째 수를 입력하세요 : 5\n",
            "7 + 5 = 12\n",
            "더할 첫 번째 수를 입력하세요 : 0\n",
            "0을 입력해 반복문을 탈출했습니다.\n"
          ],
          "name": "stdout"
        }
      ]
    },
    {
      "cell_type": "markdown",
      "metadata": {
        "id": "iZpqNHgtf4cF"
      },
      "source": [
        "실습16\n"
      ]
    },
    {
      "cell_type": "code",
      "metadata": {
        "colab": {
          "base_uri": "https://localhost:8080/"
        },
        "id": "7SRp91lEf-GH",
        "outputId": "3d33f79b-bdf3-480e-c0c4-342a3834114a"
      },
      "source": [
        "hap = 0\n",
        "a, b = 0, 0\n",
        "\n",
        "while True :\n",
        "  a = input(\"더할 첫 번째 수를 입력하세요 : \")\n",
        "  b = input(\"더할 두 번째 수를 입력하세요 : \")\n",
        "  if a == '$' or b == '$' :\n",
        "    break\n",
        "  a = int(a)\n",
        "  b = int(b)\n",
        "  hap = a + b\n",
        "  print(\"%d + %d = %d\" %(a, b, hap))\n",
        "\n",
        "print(\"$을 입력해 반복문을 탈출했습니다.\")"
      ],
      "execution_count": null,
      "outputs": [
        {
          "output_type": "stream",
          "text": [
            "더할 첫 번째 수를 입력하세요 : 7\n",
            "더할 두 번째 수를 입력하세요 : 5\n",
            "7 + 5 = 12\n",
            "더할 첫 번째 수를 입력하세요 : $\n",
            "더할 두 번째 수를 입력하세요 : $\n",
            "$을 입력해 반복문을 탈출했습니다.\n"
          ],
          "name": "stdout"
        }
      ]
    },
    {
      "cell_type": "markdown",
      "metadata": {
        "id": "oj5Z2IAfgl_b"
      },
      "source": [
        "실습17"
      ]
    },
    {
      "cell_type": "code",
      "metadata": {
        "colab": {
          "base_uri": "https://localhost:8080/"
        },
        "id": "cDRSUkU4gwN2",
        "outputId": "d2a0805d-b887-42ef-fd50-d0e8e5348cc6"
      },
      "source": [
        "hap, i = 0, 0\n",
        "\n",
        "for i in range(1, 101):\n",
        "  hap+= i\n",
        "\n",
        "  if hap >= 1000:\n",
        "    break\n",
        "\n",
        "print(\"1~100의 합계를 최초로 1000이 넘게 하는 숫자 : %d\" %i)"
      ],
      "execution_count": null,
      "outputs": [
        {
          "output_type": "stream",
          "text": [
            "1~100의 합계를 최초로 1000이 넘게 하는 숫자 : 45\n"
          ],
          "name": "stdout"
        }
      ]
    },
    {
      "cell_type": "markdown",
      "metadata": {
        "id": "u7tknmr_hWPn"
      },
      "source": [
        "실습18"
      ]
    },
    {
      "cell_type": "code",
      "metadata": {
        "colab": {
          "base_uri": "https://localhost:8080/"
        },
        "id": "w5JOobC9hVH0",
        "outputId": "9d6d0a75-c2dc-4b2d-c84d-e7493b48858e"
      },
      "source": [
        "hap, i = 0, 0\n",
        "\n",
        "for i in range(1, 101):\n",
        "  if i % 3 ==0:\n",
        "    continue\n",
        "  \n",
        "  hap += i\n",
        "\n",
        "print(\"1~100의 합계(3의 배수 제외) : %d\" %hap)"
      ],
      "execution_count": null,
      "outputs": [
        {
          "output_type": "stream",
          "text": [
            "1~100의 합계(3의 배수 제외) : 3367\n"
          ],
          "name": "stdout"
        }
      ]
    },
    {
      "cell_type": "markdown",
      "metadata": {
        "id": "RsxuC2KGWhuH"
      },
      "source": [
        "실습19"
      ]
    },
    {
      "cell_type": "code",
      "metadata": {
        "colab": {
          "base_uri": "https://localhost:8080/"
        },
        "id": "668u1kKxgvpj",
        "outputId": "5dea7f01-d52b-489e-d16f-e0df1724e1af"
      },
      "source": [
        "#전역 변수 선언\n",
        "i, k = 0, 0\n",
        "\n",
        "i = 0\n",
        "while i < 9 :   #별이 찍히는 줄이 9개가 되도록 9번 반복\n",
        "  if i < 5 :    #i<5 : 위의 다섯줄은 별의 갯수가 증가하는 부분\n",
        "    k = 0\n",
        "    while k < 4-i :       #가운데 정렬을 위해 별 앞부분에 공백을 추가\n",
        "      print(' ', end = '')\n",
        "      k += 1\n",
        "    k = 0       #별을 찍기 위해 k를 다시 0으로 초기화\n",
        "    while k < i*2+1 :     #별의 개수가 1,3,5,7,9 순서로 2씩 늘어나야 함\n",
        "      print('\\u2605', end = '')\n",
        "      k += 1\n",
        "    \n",
        "  else :        #else : 별의 갯수가 감소하는 부분\n",
        "    k = 0\n",
        "    while k < i-4 :\n",
        "      print(' ', end = '')\n",
        "      k += 1\n",
        "    k = 0\n",
        "    while k < (9-i)*2-1 :\n",
        "      print('\\u2605', end = '')\n",
        "      k += 1\n",
        "  print()\n",
        "  i += 1"
      ],
      "execution_count": null,
      "outputs": [
        {
          "output_type": "stream",
          "text": [
            "    ★\n",
            "   ★★★\n",
            "  ★★★★★\n",
            " ★★★★★★★\n",
            "★★★★★★★★★\n",
            " ★★★★★★★\n",
            "  ★★★★★\n",
            "   ★★★\n",
            "    ★\n"
          ],
          "name": "stdout"
        }
      ]
    },
    {
      "cell_type": "markdown",
      "metadata": {
        "id": "h183js_n0pQe"
      },
      "source": [
        "Print 실습"
      ]
    },
    {
      "cell_type": "code",
      "metadata": {
        "colab": {
          "base_uri": "https://localhost:8080/"
        },
        "id": "NtzPH3xL8D6n",
        "outputId": "cd21239a-0972-4a3f-bddb-1a2ed3b7fda0"
      },
      "source": [
        "print(\"Hello\")\n",
        "\n",
        "print(\"%d\" %100)\n",
        "\n",
        "#출력할 데이터가 여러 개일 때 서식과 숫자의 대응\n",
        "print(\"%d, %d\" %(100, 200))\n",
        "\n",
        "#오류\n",
        "#print(\"%d\" %(100, 200))\n",
        "#print(\"%d, %d\" %(100))\n",
        "\n",
        "print(\"%d/%d=%5.1f\" %(100, 200, 0.5))\n",
        "\n",
        "print(\"%d\" %123)\n",
        "print(\"%5d\" %123)\n",
        "print(\"%05d\" %123)\n",
        "print(\"%f\" %123.45)\n",
        "print(\"%7.1f\" %123.45)\n",
        "print(\"%7.3f\" %123.45)\n",
        "\n",
        "print(\"%s\" %\"Python\")\n",
        "print(\"%10s\" %\"Python\")\n",
        "\n",
        "print(\"Error is %d%%.\" %98)\n",
        "\n",
        "print(\"\\n줄바꿈\\n연습\")\n",
        "print(\"\\t키\\t연습\")\n",
        "print(\"\\\\\\\\\\\\역슬래시 3개 출력\")\n",
        "print(\"줄바꿈 기호 : \\\\n\")\n",
        "print(\"탭 키 기호 : \\\\t\")\n",
        "\n",
        "print(\"줄바꾸기\")\n",
        "print(\"줄바꿈\")\n",
        "print(\"줄바꾸지 말기\", end =' ')\n",
        "print(\"같은 줄에 출력\")"
      ],
      "execution_count": null,
      "outputs": [
        {
          "output_type": "stream",
          "text": [
            "Hello\n",
            "100\n",
            "100, 200\n",
            "100/200=  0.5\n",
            "123\n",
            "  123\n",
            "00123\n",
            "123.450000\n",
            "  123.5\n",
            "123.450\n",
            "Python\n",
            "    Python\n",
            "Error is 98%.\n",
            "\n",
            "줄바꿈\n",
            "연습\n",
            "\t키\t연습\n",
            "\\\\\\역슬래시 3개 출력\n",
            "줄바꿈 기호 : \\n\n",
            "탭 키 기호 : \\t\n",
            "줄바꾸기\n",
            "줄바꿈\n",
            "줄바꾸지 말기같은 줄에 출력\n"
          ],
          "name": "stdout"
        }
      ]
    },
    {
      "cell_type": "code",
      "metadata": {
        "id": "mdqnaAKo1N9H"
      },
      "source": [
        ""
      ],
      "execution_count": null,
      "outputs": []
    }
  ]
}