{
  "nbformat": 4,
  "nbformat_minor": 0,
  "metadata": {
    "colab": {
      "name": "파이썬과데이터분석_과제1_국어국문학과_이윤경_1720047.ipynb",
      "provenance": [],
      "collapsed_sections": [],
      "authorship_tag": "ABX9TyPmk07NAlEP78IBql9opPi6",
      "include_colab_link": true
    },
    "kernelspec": {
      "name": "python3",
      "display_name": "Python 3"
    },
    "language_info": {
      "name": "python"
    }
  },
  "cells": [
    {
      "cell_type": "markdown",
      "metadata": {
        "id": "view-in-github",
        "colab_type": "text"
      },
      "source": [
        "<a href=\"https://colab.research.google.com/github/TessYKLEE/sturdy-winner/blob/master/%ED%8C%8C%EC%9D%B4%EC%8D%AC%EA%B3%BC%EB%8D%B0%EC%9D%B4%ED%84%B0%EB%B6%84%EC%84%9D_%EA%B3%BC%EC%A0%9C1_%EA%B5%AD%EC%96%B4%EA%B5%AD%EB%AC%B8%ED%95%99%EA%B3%BC_%EC%9D%B4%EC%9C%A4%EA%B2%BD_1720047.ipynb\" target=\"_parent\"><img src=\"https://colab.research.google.com/assets/colab-badge.svg\" alt=\"Open In Colab\"/></a>"
      ]
    },
    {
      "cell_type": "markdown",
      "metadata": {
        "id": "QbANj8kKTBFV"
      },
      "source": [
        "2021년 3월 21일 과제 1\n",
        "\n",
        "국어국문학과 이윤경(학번:1720047) 작성"
      ]
    },
    {
      "cell_type": "markdown",
      "metadata": {
        "id": "SP6FM3-pui8A"
      },
      "source": [
        "지하철 자동 발권 프로그램 1구간:700원 2구간:900원\n",
        "1. 투입한 금액과 구입할 각 구간의 표의 개수를 입력 받기\n",
        "2. 입력받은 돈에서 표값을 제외한 잔돈을 계산하고 출력하기\n",
        "3. 잔돈을 돌려주기 위한 1000원, 100원 지폐의 개수를 계산하고 출력하기\n"
      ]
    },
    {
      "cell_type": "code",
      "metadata": {
        "colab": {
          "base_uri": "https://localhost:8080/",
          "height": 0
        },
        "id": "FhmVttbcuNMF",
        "outputId": "0eae35b4-504e-4612-e18c-8be89a657e93"
      },
      "source": [
        "money = int(input('투입한 돈은? ')) #사용자가 투입할 금액을 'mpney' 변수에 입력받는다. 입력 함수 input()을 사용하여 입력받은 후 연산을 위해 그 값을 int형으로 형변환한다.\n",
        "\n",
        "#1구간과 2구간의 표 수를 입력받아 각각 section1, section2 변수에 저장한다.\n",
        "#아래 두 변수 역시 연산을 위해 int형으로 형변환해준다.\n",
        "section1 = int(input('1구간 표의 수는? ')) #1구간: 700원 \n",
        "section2 = int(input('2구간 표의 수는? ')) #2구간은 900원\n",
        "\n",
        "\n",
        "#잔돈 : 사용자로부터 입력받은 금액(money)에서 각 구간별 요금과 표 수를 곱한 비용을 빼서 change 변수에 저장한다.\n",
        "change = money - (section1 * 700 + section2 * 900)\n",
        "\n",
        "if change < 0 :\n",
        "  print('투입된 금액이 너무 적습니다. 프로그램을 종료합니다.')  #투입한 돈보다 구간 이용 비용이 더 높은 경우, 투입된 금액이 적다는 메세지를 출력후 프로그램을 종료한다.\n",
        "\n",
        "else :                                              #투입한 돈이 구간 이용 비용보다 적어 잔돈이 계산 가능할 경우 잔돈을 계산하고 그 결과를 출력한다.\n",
        "  change_1000 = change // 1000            #1000원 지폐 수를 구하기 위해 잔돈을 1000으로 나눈 몫을 'change_1000' 변수에 저장한다.\n",
        "  change_100 = (change % 1000) // 100     #100원 동전 수를 구하기 위해 먼저 잔돈을 1000으로 나눈 나머지를 구하고, 그 나머지를 100으로 나눈 몫을 'change_100' 변수에 저장한다.\n",
        "\n",
        "  #순서대로 잔돈, 1000원 지폐 수, 100원 동전의 수를 출력한다.\n",
        "  print('잔돈: ', change, '원')\n",
        "  print('1000원 지폐: ',change_1000 , '장')\n",
        "  print('100원 동전: ', change_100, '개')"
      ],
      "execution_count": 3,
      "outputs": [
        {
          "output_type": "stream",
          "text": [
            "투입한 돈은? 10000\n",
            "1구간 표의 수는? 2\n",
            "2구간 표의 수는? 5\n",
            "잔돈:  4100 원\n",
            "1000원 지폐:  4 장\n",
            "100원 동전:  1 개\n"
          ],
          "name": "stdout"
        }
      ]
    },
    {
      "cell_type": "code",
      "metadata": {
        "id": "b_sYo6-YS24H"
      },
      "source": [
        ""
      ],
      "execution_count": null,
      "outputs": []
    }
  ]
}